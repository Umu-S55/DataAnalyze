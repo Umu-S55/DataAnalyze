{
 "cells": [
  {
   "cell_type": "markdown",
   "metadata": {},
   "source": [
    "# 基本統計量を自力で確認する"
   ]
  },
  {
   "cell_type": "code",
   "execution_count": 40,
   "metadata": {},
   "outputs": [
    {
     "name": "stdout",
     "output_type": "stream",
     "text": [
      "class number is :7\n",
      "Min data is :93.4\n",
      "Max data is :107.3\n",
      "class width is :0\n",
      "                    度数  累積度数      相対度数    累積相対度数\n",
      "[95.386, 97.371)     8     8  0.105263  0.105263\n",
      "[97.371, 99.357)    18    26  0.236842  0.342105\n",
      "[99.357, 101.343)   24    50  0.315789  0.657895\n",
      "[101.343, 103.329)  17    67  0.223684  0.881579\n",
      "[103.329, 105.314)   7    74  0.092105  0.973684\n",
      "[105.314, 107.3)     2    76  0.026316  1.000000\n"
     ]
    },
    {
     "data": {
      "text/plain": [
       "(array([ 2.,  2.,  8., 14., 15., 17., 11.,  6.,  3.,  2.]),\n",
       " array([ 93.4 ,  94.79,  96.18,  97.57,  98.96, 100.35, 101.74, 103.13,\n",
       "        104.52, 105.91, 107.3 ]),\n",
       " <a list of 10 Patch objects>)"
      ]
     },
     "execution_count": 40,
     "metadata": {},
     "output_type": "execute_result"
    },
    {
     "data": {
      "image/png": "[encoded data removed]",
      "text/plain": [
       "<Figure size 432x288 with 1 Axes>"
      ]
     },
     "metadata": {
      "needs_background": "light"
     },
     "output_type": "display_data"
    }
   ],
   "source": [
    "import math\n",
    "import pandas as np\n",
    "import matplotlib.pyplot as plt\n",
    "%matplotlib inline\n",
    "\n",
    "\n",
    "DATA = [100.6, 105.4, 98.0, 96.9, 98.9, 100.2, 100.0, 97.0,\n",
    "        94.6, 100.4, 103.8, 103.0, 98.3, 101.6, 102.1, 99.1,\n",
    "        102.8, 101.7, 107.3, 96.9, 100.7, 98.7, 97.5, 101.3,\n",
    "        101.6, 104.3, 97.6, 101.8, 98.5, 101.4, 100.1, 99.7,\n",
    "        103.4, 97.8, 100.5, 99.9, 98.7, 99.3, 96.7, 102.5,\n",
    "        104.6, 99.6, 101.5, 106.3, 100.9, 93.4, 98.5, 100.5,\n",
    "        97.9, 102.3, 99.6, 99.8, 102.7, 96.7, 99.7, 95.2,\n",
    "        100.6, 105.2, 98.7, 100.5, 98.0, 99.1, 102.2, 101.8,\n",
    "        95.7, 99.4, 103.2, 98.9, 103.4, 101.0, 99.8, 100.7,\n",
    "        101.3, 98.2, 97.3, 100.0, 96.3, 101.9, 102.1, 104.1]\n",
    "\n",
    "\n",
    "# スタージェスの公式を用いて、階級の数を求める\n",
    "class_num = 1 + 3.32 * math.log10(len(DATA))\n",
    "print('class number is :{}'.format(round(class_num)))\n",
    "\n",
    "# 階級の幅を決める\n",
    "data_min = min(DATA)\n",
    "data_max = max(DATA)\n",
    "print('Min data is :{}'.format(data_min))\n",
    "print('Max data is :{}'.format(data_max))\n",
    "class_width = (data_max - data_min) / round(class_num)\n",
    "print('class width is :{}'.format(10 * round(class_width*0.1)))\n",
    "\n",
    "# 度数分布表を作成する\n",
    "bins = [data_min+class_width, data_min+class_width*2, data_min+class_width*3, data_min+class_width*4, data_min+class_width*5,\n",
    "        data_min+class_width*6, data_min+class_width*7]\n",
    "cats = pd.cut(DATA, bins, right=False)\n",
    "freq_table = pd.DataFrame(cats.value_counts(),columns=['度数'])\n",
    "freq_table['累積度数'] = freq_table['度数'].cumsum()\n",
    "freq_table['相対度数'] = [x / freq_table['度数'].sum() for x in freq_table['度数']]\n",
    "freq_table['累積相対度数'] = freq_table['相対度数'].cumsum()\n",
    "print(freq_table)\n",
    "\n",
    "#ヒストグラムの生成\n",
    "fig = plt.figure()\n",
    "ax1 = fig.add_subplot(1,1,1)\n",
    "ax1.hist(DATA)"
   ]
  },
  {
   "cell_type": "markdown",
   "metadata": {},
   "source": [
    "# Pandasを使って統計量の確認の仕方\n",
    "\n",
    "***\n",
    "量的データの場合はヒストグラムで特徴を確認\n",
    "***"
   ]
  },
  {
   "cell_type": "code",
   "execution_count": 41,
   "metadata": {},
   "outputs": [
    {
     "name": "stdout",
     "output_type": "stream",
     "text": [
      "**************************************************\n",
      "基本統計量の確認\n",
      "**************************************************\n",
      "count     80.000000\n",
      "mean     100.240000\n",
      "std        2.671917\n",
      "min       93.400000\n",
      "25%       98.500000\n",
      "50%      100.150000\n",
      "75%      101.825000\n",
      "max      107.300000\n",
      "dtype: float64\n",
      "\n",
      "**************************************************\n",
      "ヒストグラムの確認\n",
      "**************************************************\n"
     ]
    },
    {
     "data": {
      "image/png": "[encoded data removed]",
      "text/plain": [
       "<Figure size 432x288 with 1 Axes>"
      ]
     },
     "metadata": {
      "needs_background": "light"
     },
     "output_type": "display_data"
    }
   ],
   "source": [
    "import pandas as pd\n",
    "import numpy as np\n",
    "import matplotlib.pyplot as plt\n",
    "%matplotlib inline\n",
    "\n",
    "\n",
    "data = [100.6, 105.4, 98.0, 96.9, 98.9, 100.2, 100.0, 97.0,\n",
    "        94.6, 100.4, 103.8, 103.0, 98.3, 101.6, 102.1, 99.1,\n",
    "        102.8, 101.7, 107.3, 96.9, 100.7, 98.7, 97.5, 101.3,\n",
    "        101.6, 104.3, 97.6, 101.8, 98.5, 101.4, 100.1, 99.7,\n",
    "        103.4, 97.8, 100.5, 99.9, 98.7, 99.3, 96.7, 102.5,\n",
    "        104.6, 99.6, 101.5, 106.3, 100.9, 93.4, 98.5, 100.5,\n",
    "        97.9, 102.3, 99.6, 99.8, 102.7, 96.7, 99.7, 95.2,\n",
    "        100.6, 105.2, 98.7, 100.5, 98.0, 99.1, 102.2, 101.8,\n",
    "        95.7, 99.4, 103.2, 98.9, 103.4, 101.0, 99.8, 100.7,\n",
    "        101.3, 98.2, 97.3, 100.0, 96.3, 101.9, 102.1, 104.1]\n",
    "\n",
    "s_data = pd.Series(data)\n",
    "\n",
    "print('*'*50)\n",
    "print('基本統計量の確認')\n",
    "print('*'*50)\n",
    "print(s_data.describe())\n",
    "\n",
    "print()\n",
    "\n",
    "print('*'*50)\n",
    "print('ヒストグラムの確認')\n",
    "print('*'*50)\n",
    "s_data.plot.hist(title='Title')\n",
    "plt.show()"
   ]
  },
  {
   "cell_type": "markdown",
   "metadata": {},
   "source": [
    "# 統計量の確認の仕方\n",
    "\n",
    "***\n",
    "質的データの場合は棒グラフで確認\n",
    "***"
   ]
  },
  {
   "cell_type": "code",
   "execution_count": 16,
   "metadata": {},
   "outputs": [
    {
     "name": "stdout",
     "output_type": "stream",
     "text": [
      "**************************************************\n",
      "基本統計量の確認\n",
      "**************************************************\n",
      "dog         3\n",
      "women       3\n",
      "man         3\n",
      "cat         3\n",
      "elephant    2\n",
      "dtype: int64\n",
      "\n",
      "**************************************************\n",
      "棒グラフの確認\n",
      "**************************************************\n"
     ]
    },
    {
     "data": {
      "image/png": "[encoded data removed]",
      "text/plain": [
       "<Figure size 432x288 with 1 Axes>"
      ]
     },
     "metadata": {
      "needs_background": "light"
     },
     "output_type": "display_data"
    }
   ],
   "source": [
    "import pandas as pd\n",
    "import numpy as np\n",
    "import matplotlib.pyplot as plt\n",
    "%matplotlib inline\n",
    "\n",
    "\n",
    "data = ['man','man','women','dog','man','dog','women','women','cat','elephant','dog','elephant','cat','cat']\n",
    "s_data = pd.Series(data)\n",
    "\n",
    "print('*'*50)\n",
    "print('基本統計量の確認')\n",
    "print('*'*50)\n",
    "print(s_data.value_counts())\n",
    "counts = s_data.value_counts()\n",
    "\n",
    "print()\n",
    "\n",
    "print('*'*50)\n",
    "print('棒グラフの確認')\n",
    "print('*'*50)\n",
    "counts.plot.bar(title='Title')\n",
    "plt.xlabel('x label')\n",
    "plt.ylabel('y label')\n",
    "plt.show()"
   ]
  },
  {
   "cell_type": "markdown",
   "metadata": {},
   "source": [
    "# 相関の確認\n",
    "## 目的：目的変数と説明変数の関係性を確認する\n",
    "\n",
    "1. 相関係数の確認\n",
    " * DF.corr()を使う\n",
    " * heatmapを使う\n",
    "2. 相関係数の可視化\n",
    " * 散布図:量的データ×量的データ\n",
    " * 箱ひげ図:質的データ×量的データ"
   ]
  },
  {
   "cell_type": "code",
   "execution_count": 57,
   "metadata": {},
   "outputs": [
    {
     "name": "stdout",
     "output_type": "stream",
     "text": [
      "相関係数の確認\n",
      "          valueA    valueB    valueC\n",
      "valueA  1.000000  0.181769  0.827176\n",
      "valueB  0.181769  1.000000  0.252858\n",
      "valueC  0.827176  0.252858  1.000000\n",
      "相関係数の可視化\n",
      "valueAとvalueCに相関があるので散布図を作成する\n"
     ]
    },
    {
     "data": {
      "image/png": "[encoded data removed]",
      "text/plain": [
       "<Figure size 432x288 with 2 Axes>"
      ]
     },
     "metadata": {
      "needs_background": "light"
     },
     "output_type": "display_data"
    }
   ],
   "source": [
    "import pandas as pd\n",
    "import matplotlib.pyplot as plt\n",
    "import seaborn as sns\n",
    "%matplotlib inline\n",
    "\n",
    "data1 = [53, 54, 57, 58, 60, 61, 62, 65, 66, 67, 67, 69, 72, 73, 76, 76, 79]\n",
    "data2 = [15, 5, 11, 5, 4, 15, 9, 12, 5, 13, 8, 12, 10, 5, 15, 8, 14]\n",
    "data3 = [23, 10, 16, 26, 20, 16, 24, 31, 31, 22, 26, 33, 41, 30,40, 30, 44]\n",
    "\n",
    "sample_df = pd.DataFrame({'valueA':data1,'valueB':data2,'valueC':data3})\n",
    "\n",
    "print('相関係数の確認')\n",
    "print(sample_df.corr())\n",
    "\n",
    "print('相関係数の可視化')\n",
    "sns.heatmap(sample_df.corr())\n",
    "\n",
    "print('valueAとvalueCに相関があるので散布図を作成する')\n",
    "plt.scatter(sample_df['valueA'], sample_df['valueB'])\n",
    "plt.show()"
   ]
  },
  {
   "cell_type": "code",
   "execution_count": 59,
   "metadata": {},
   "outputs": [
    {
     "name": "stdout",
     "output_type": "stream",
     "text": [
      "valueAとvalueCに相関があるので散布図を作成する\n"
     ]
    },
    {
     "data": {
      "image/png": "[encoded data removed]",
      "text/plain": [
       "<Figure size 432x288 with 1 Axes>"
      ]
     },
     "metadata": {
      "needs_background": "light"
     },
     "output_type": "display_data"
    }
   ],
   "source": [
    "print('valueAとvalueCに相関があるので散布図を作成する。この例はイマイチ。。。')\n",
    "plt.scatter(sample_df['valueA'], sample_df['valueB'])\n",
    "plt.show()"
   ]
  },
  {
   "cell_type": "code",
   "execution_count": 72,
   "metadata": {},
   "outputs": [
    {
     "data": {
      "text/plain": [
       "<matplotlib.axes._subplots.AxesSubplot at 0x1a19df5f28>"
      ]
     },
     "execution_count": 72,
     "metadata": {},
     "output_type": "execute_result"
    },
    {
     "data": {
      "image/png": "[encoded data removed]",
      "text/plain": [
       "<Figure size 432x288 with 1 Axes>"
      ]
     },
     "metadata": {
      "needs_background": "light"
     },
     "output_type": "display_data"
    }
   ],
   "source": [
    "import pandas as pd\n",
    "import seaborn as sns\n",
    "import matplotlib.pyplot as plt\n",
    "%matplotlib inline\n",
    "\n",
    "df = pd.read_csv('fruits.csv')\n",
    "df.drop(columns=['Unnamed: 0'])\n",
    "sns.boxplot('果物','個数', data=df)"
   ]
  },
  {
   "cell_type": "code",
   "execution_count": null,
   "metadata": {},
   "outputs": [],
   "source": []
  }
 ],
 "metadata": {
  "kernelspec": {
   "display_name": "Python 3",
   "language": "python",
   "name": "python3"
  },
  "language_info": {
   "codemirror_mode": {
    "name": "ipython",
    "version": 3
   },
   "file_extension": ".py",
   "mimetype": "text/x-python",
   "name": "python",
   "nbconvert_exporter": "python",
   "pygments_lexer": "ipython3",
   "version": "3.7.1"
  }
 },
 "nbformat": 4,
 "nbformat_minor": 2
}
